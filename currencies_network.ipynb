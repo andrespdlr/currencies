{
 "cells": [
  {
   "cell_type": "markdown",
   "metadata": {},
   "source": [
    "<div class=\"alert alert-success\">\n",
    "**Requirements**\n",
    "\n",
    "</div>"
   ]
  },
  {
   "cell_type": "code",
   "execution_count": 1,
   "metadata": {
    "collapsed": true
   },
   "outputs": [],
   "source": [
    "import pandas as pd\n",
    "import numpy as np\n",
    "%matplotlib inline\n",
    "import matplotlib.pylab as plt\n",
    "plt.style.use('ggplot')\n",
    "import datetime\n",
    "from imf_currencies_codes import *"
   ]
  },
  {
   "cell_type": "code",
   "execution_count": 2,
   "metadata": {
    "collapsed": true
   },
   "outputs": [],
   "source": [
    "def exchange_rate(rate0,rate1):\n",
    "    ''' Measures the rate of depreciation (if < 0) or appreciation (if > 0) '''\n",
    "    rv = (rate0 - rate1) / rate1\n",
    "    return rv"
   ]
  },
  {
   "cell_type": "code",
   "execution_count": 3,
   "metadata": {
    "collapsed": true
   },
   "outputs": [],
   "source": [
    "def replace_comma(string):\n",
    "    ''' It replaces comma within a string '''\n",
    "    string = str(string)\n",
    "    rv_string = string.replace(',', '')\n",
    "    return rv_string"
   ]
  },
  {
   "cell_type": "code",
   "execution_count": 4,
   "metadata": {
    "collapsed": true
   },
   "outputs": [],
   "source": [
    "''' Defines the date as a string '''\n",
    "date = datetime.datetime.now().isoformat()[0:10]"
   ]
  },
  {
   "cell_type": "markdown",
   "metadata": {},
   "source": [
    "<div class=\"alert alert-success\">\n",
    "**Matrix M1**\n",
    "\n",
    "</div>"
   ]
  },
  {
   "cell_type": "code",
   "execution_count": 6,
   "metadata": {
    "collapsed": false
   },
   "outputs": [],
   "source": [
    "''' Calls the file into iPython '''\n",
    "file = 'imf_currencies_{}.xls'.format(date)\n",
    "today_currencies = pd.read_csv(file, sep = '\\t', header = 0)"
   ]
  },
  {
   "cell_type": "code",
   "execution_count": 7,
   "metadata": {
    "collapsed": false
   },
   "outputs": [],
   "source": [
    "''' Adds code and country columns from imf_currencies_codes.py to today_currencies '''\n",
    "codes = []\n",
    "countries = []\n",
    "currencies = []\n",
    "for currency in today_currencies['Currency']:\n",
    "    currencies.append(currency)\n",
    "    country = imf_currencies_codes[currency][0]\n",
    "    code = imf_currencies_codes[currency][1]\n",
    "    codes.append(code)\n",
    "    countries.append(country)\n",
    "today_currencies['Codes'] = codes\n",
    "today_currencies['Countries'] = countries"
   ]
  },
  {
   "cell_type": "code",
   "execution_count": 8,
   "metadata": {
    "collapsed": false
   },
   "outputs": [
    {
     "ename": "SyntaxError",
     "evalue": "invalid syntax (<ipython-input-8-31373fcba681>, line 3)",
     "output_type": "error",
     "traceback": [
      "\u001b[1;36m  File \u001b[1;32m\"<ipython-input-8-31373fcba681>\"\u001b[1;36m, line \u001b[1;32m3\u001b[0m\n\u001b[1;33m    dates = [] >>>>>>>>>>>>>>>>>>>>>> CONVERTIR EN DICTIONARY CON ORDEN\u001b[0m\n\u001b[1;37m                  ^\u001b[0m\n\u001b[1;31mSyntaxError\u001b[0m\u001b[1;31m:\u001b[0m invalid syntax\n"
     ]
    }
   ],
   "source": [
    "''' Extracts dates as column names '''\n",
    "exceptions = ['Currency', 'Codes', 'Countries']\n",
    "dates = [] >>>>>>>>>>>>>>>>>>>>>> CONVERTIR EN DICTIONARY CON ORDEN\n",
    "for colname in today_currencies.columns:\n",
    "    if colname not in exceptions:\n",
    "        dates.append(colname)"
   ]
  },
  {
   "cell_type": "code",
   "execution_count": 9,
   "metadata": {
    "collapsed": true
   },
   "outputs": [],
   "source": [
    "''' Extracts dates as column names '''\n",
    "exceptions = ['Currency', 'Codes', 'Countries']\n",
    "dates = {}\n",
    "index = 0\n",
    "for colname in today_currencies.columns:\n",
    "    if colname not in exceptions:\n",
    "        dates[index] = colname\n",
    "        index += 1"
   ]
  },
  {
   "cell_type": "code",
   "execution_count": 11,
   "metadata": {
    "collapsed": false
   },
   "outputs": [],
   "source": [
    "''' Transforms format <xx,xxx.xx> into <xxxxx.xx> in the original pandas data frame '''\n",
    "for date in dates.values():\n",
    "    today_currencies[date] = today_currencies[date].apply(replace_comma)"
   ]
  },
  {
   "cell_type": "code",
   "execution_count": 12,
   "metadata": {
    "collapsed": false
   },
   "outputs": [],
   "source": [
    "''' Extracts the performance of every currency for every relevant date '''\n",
    "performance = {}\n",
    "index = 0\n",
    "for currency in today_currencies['Currency']:\n",
    "    performance[currency] = {}\n",
    "    for date in dates.values():\n",
    "        rv = today_currencies[date][index]\n",
    "        real_rv = float(rv)\n",
    "        if np.isnan(real_rv):\n",
    "            pass\n",
    "        else:\n",
    "            performance[currency][date] = real_rv\n",
    "    index += 1"
   ]
  },
  {
   "cell_type": "code",
   "execution_count": 13,
   "metadata": {
    "collapsed": false
   },
   "outputs": [],
   "source": [
    "''' Creates super_performance and day_periods '''\n",
    "super_performance = {}\n",
    "day_periods = []\n",
    "for x in range(len(today_currencies)):\n",
    "    currency = today_currencies['Currency'][x]\n",
    "    super_performance[currency] = {}\n",
    "    for date_i, date in dates.items():\n",
    "        if date_i == 0:\n",
    "            pass\n",
    "        else:\n",
    "            date_0 = dates[date_i - 1]\n",
    "            date_1 = dates[date_i]\n",
    "            rate_t0 = float(today_currencies[date_0][x])\n",
    "            rate_t1 = float(today_currencies[date_1][x])\n",
    "            rate_change = (rate_t0 - rate_t1) / rate_t1\n",
    "            day_period = date_0 + ' to ' + date_1\n",
    "            day_periods.append(day_period)\n",
    "            super_performance[currency][day_period] = rate_change\n",
    "day_periods = set(day_periods)"
   ]
  },
  {
   "cell_type": "markdown",
   "metadata": {},
   "source": [
    "<div class=\"alert alert-success\">\n",
    "**Objects**\n",
    "\n",
    "</div>"
   ]
  },
  {
   "cell_type": "markdown",
   "metadata": {},
   "source": [
    "From matrix M1 we have built:\n",
    "\n",
    "currencies        -> List of currencies\n",
    "dates             -> List of dates len(dates) = m\n",
    "codes             -> List of currency codes \n",
    "countries         -> List of countries\n",
    "performance       -> Dictionary of performance\n",
    "day_periods       -> List of day periods len(day_periods) = m - 1\n",
    "super_performance -> Dictionary of super performance"
   ]
  },
  {
   "cell_type": "markdown",
   "metadata": {},
   "source": [
    "<div class=\"alert alert-success\">\n",
    "**Matrix M2**\n",
    "\n",
    "</div>"
   ]
  },
  {
   "cell_type": "code",
   "execution_count": 57,
   "metadata": {
    "collapsed": false
   },
   "outputs": [],
   "source": [
    "''' Creates matrix M2 '''\n",
    "M2 = pd.DataFrame({'Currencies': currencies})\n",
    "for day_period in day_periods:\n",
    "    rate_change_list = []\n",
    "    for currency in currencies:\n",
    "        rv = super_performance[currency][day_period]\n",
    "        rate_change_list.append(rv)\n",
    "    M2[day_period] = rate_change_list"
   ]
  },
  {
   "cell_type": "markdown",
   "metadata": {},
   "source": [
    "<div class=\"alert alert-success\">\n",
    "**Matrix M3**\n",
    "\n",
    "</div>"
   ]
  },
  {
   "cell_type": "code",
   "execution_count": 110,
   "metadata": {
    "collapsed": false
   },
   "outputs": [],
   "source": [
    ">>>>>>>>>>>>>>>>> CONVERTIR EN DICTIONARIES\n",
    "X = [] # Mean rate change\n",
    "Y = [] # Variance rate change\n",
    "for currency in currencies:\n",
    "    currency_super_performance = list(super_performance[currency].values())\n",
    "    mean_change = np.nanmean(currency_super_performance)\n",
    "    sigma_change = np.nanstd(currency_super_performance)\n",
    "    X.append(mean_change)\n",
    "    Y.append(sigma_change)"
   ]
  },
  {
   "cell_type": "code",
   "execution_count": 212,
   "metadata": {
    "collapsed": false
   },
   "outputs": [
    {
     "data": {
      "text/plain": [
       "[<matplotlib.lines.Line2D at 0xc07e4e0>]"
      ]
     },
     "execution_count": 212,
     "metadata": {},
     "output_type": "execute_result"
    },
    {
     "data": {
      "image/png": "[encoded data removed]",
      "text/plain": [
       "<matplotlib.figure.Figure at 0xacd44a8>"
      ]
     },
     "metadata": {},
     "output_type": "display_data"
    }
   ],
   "source": [
    "mean_y = np.nanmean(Y)\n",
    "plt.axvline(0, color = 'black', linestyle = 'solid', linewidth = .5)\n",
    "plt.axhline(mean_y, color = 'black', linestyle = 'solid', linewidth = .5)\n",
    "plt.plot(X, Y, '+', c = 'blue')\n",
    "Q1 = []\n",
    "Q2 = [] >>>>>>>>>>>>> LLENAR CON LAS CURRENCIES DE ACUERDO AL CUADRANTE DONDE ESTÁN\n",
    "Q3 = []\n",
    "Q4 = []\n",
    "for "
   ]
  },
  {
   "cell_type": "code",
   "execution_count": 172,
   "metadata": {
    "collapsed": false
   },
   "outputs": [],
   "source": [
    "M2.to_csv(\"C:\\\\Users\\\\Andres\\\\Documents\\\\+ RESPALDO\\\\SCM\\\\M2_{}.csv\".format(date), index=False)\n",
    "M3 = pd.read_csv(file, sep = '\\t', header = 0, >>>>>>>>>>>>>>> NOINDEX)"
   ]
  }
 ],
 "metadata": {
  "kernelspec": {
   "display_name": "Python 3",
   "language": "python",
   "name": "python3"
  },
  "language_info": {
   "codemirror_mode": {
    "name": "ipython",
    "version": 3
   },
   "file_extension": ".py",
   "mimetype": "text/x-python",
   "name": "python",
   "nbconvert_exporter": "python",
   "pygments_lexer": "ipython3",
   "version": "3.4.3"
  }
 },
 "nbformat": 4,
 "nbformat_minor": 0
}
